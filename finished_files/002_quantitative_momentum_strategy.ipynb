{
 "cells": [
  {
   "cell_type": "markdown",
   "metadata": {},
   "source": [
    "# Quantitative Momentum Strategy\n",
    "\n",
    "\"Momentum investing\" means investing in the stocks that have increased in price the most.\n",
    "\n",
    "For this project, we're going to build an investing strategy that selects the 50 stocks with the highest price momentum.\n",
    "\n",
    "\n",
    "## Library Imports\n",
    "\n",
    "The first thing we need to do is import the open-source software libraries that we'll be using in this tutorial."
   ]
  },
  {
   "cell_type": "code",
   "execution_count": 4,
   "metadata": {},
   "outputs": [],
   "source": [
    "import numpy as np #The Numpy numerical computing library\n",
    "import pandas as pd #The Pandas data science library\n",
    "import matplotlib.pyplot as plt #The matplotlib visuailzation library\n",
    "import requests #The requests library for HTTP requests in Python\n",
    "import xlsxwriter #The XlsxWriter libarary for \n",
    "import math #The Python math module"
   ]
  },
  {
   "cell_type": "markdown",
   "metadata": {},
   "source": [
    "## Importing Our List of Stocks\n",
    "\n",
    "As before, we'll need to import our list of stocks and our API token before proceeding. Make sure the `.csv` file is still in your working directory and import it with the following command:"
   ]
  },
  {
   "cell_type": "code",
   "execution_count": 5,
   "metadata": {},
   "outputs": [],
   "source": [
    "stocks = pd.read_csv('sp_500_stocks.csv')\n",
    "from secrets import IEX_CLOUD_API_TOKEN"
   ]
  },
  {
   "cell_type": "markdown",
   "metadata": {},
   "source": [
    "## Making Our First API Call\n",
    "\n",
    "It's now time to make the first version of our momentum screener!\n",
    "\n",
    "We need to get one-year price returns for each stock in the universe. Here's how."
   ]
  },
  {
   "cell_type": "code",
   "execution_count": 9,
   "metadata": {},
   "outputs": [
    {
     "data": {
      "text/plain": [
       "{'week52change': 1.299588,\n",
       " 'week52high': 457.18,\n",
       " 'week52low': 197.82,\n",
       " 'marketcap': 1930648068246,\n",
       " 'employees': 140008,\n",
       " 'day200MovingAvg': 314.51,\n",
       " 'day50MovingAvg': 368.79,\n",
       " 'float': 4484763860,\n",
       " 'avg10Volume': 46933959.2,\n",
       " 'avg30Volume': 38158022.1,\n",
       " 'ttmEPS': 13.8486,\n",
       " 'ttmDividendRate': 3.23,\n",
       " 'companyName': 'Apple, Inc.',\n",
       " 'sharesOutstanding': 4380957803,\n",
       " 'maxChangePercent': 453.609,\n",
       " 'year5ChangePercent': 2.9033,\n",
       " 'year2ChangePercent': 1.1424,\n",
       " 'year1ChangePercent': 1.318828,\n",
       " 'ytdChangePercent': 0.4609,\n",
       " 'month6ChangePercent': 0.372753,\n",
       " 'month3ChangePercent': 0.49576,\n",
       " 'month1ChangePercent': 0.180563,\n",
       " 'day30ChangePercent': 0.203278,\n",
       " 'day5ChangePercent': 0.155289,\n",
       " 'nextDividendDate': '2020-07-26',\n",
       " 'dividendYield': 0.00733941424618713,\n",
       " 'nextEarningsDate': '2020-10-28',\n",
       " 'exDividendDate': '2020-05-03',\n",
       " 'peRatio': 33.68,\n",
       " 'beta': 1.1464714088617771}"
      ]
     },
     "execution_count": 9,
     "metadata": {},
     "output_type": "execute_result"
    }
   ],
   "source": [
    "symbol = 'AAPL'\n",
    "api_url = f'https://sandbox.iexapis.com/stable/stock/{symbol}/stats?token={IEX_CLOUD_API_TOKEN}'\n",
    "data = requests.get(api_url).json()\n",
    "data"
   ]
  },
  {
   "cell_type": "code",
   "execution_count": null,
   "metadata": {},
   "outputs": [],
   "source": []
  },
  {
   "cell_type": "code",
   "execution_count": null,
   "metadata": {},
   "outputs": [],
   "source": []
  }
 ],
 "metadata": {
  "kernelspec": {
   "display_name": "Python 3",
   "language": "python",
   "name": "python3"
  },
  "language_info": {
   "codemirror_mode": {
    "name": "ipython",
    "version": 3
   },
   "file_extension": ".py",
   "mimetype": "text/x-python",
   "name": "python",
   "nbconvert_exporter": "python",
   "pygments_lexer": "ipython3",
   "version": "3.8.2"
  }
 },
 "nbformat": 4,
 "nbformat_minor": 4
}
